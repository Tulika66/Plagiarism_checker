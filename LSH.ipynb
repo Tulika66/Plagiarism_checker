{
 "cells": [
  {
   "cell_type": "code",
   "execution_count": 1,
   "metadata": {},
   "outputs": [],
   "source": [
    "import os\n",
    "import glob\n",
    "import nltk\n",
    "from nltk.corpus import stopwords"
   ]
  },
  {
   "cell_type": "code",
   "execution_count": 268,
   "metadata": {},
   "outputs": [],
   "source": [
    "import numpy as np\n",
    "import pandas as pd\n",
    "import copy\n",
    "import hashlib\n",
    "import string\n",
    "import itertools"
   ]
  },
  {
   "cell_type": "code",
   "execution_count": 5,
   "metadata": {},
   "outputs": [],
   "source": [
    "###Preprocessing\n",
    "\n",
    "stop_word = set(stopwords.words(\"english\"))\n",
    "punctuation_table = str.maketrans({key: \" \" for key in string.punctuation})\n",
    "whitespace_table = str.maketrans({key: \"\" for key in string.whitespace})\n",
    "\n",
    "def preprocess(document):\n",
    "    \n",
    "    document = document.casefold()\n",
    "    document_split = (document.translate(punctuation_table)).split()\n",
    "    document = \"\"\n",
    "    for word in document_split:\n",
    "        if word not in stop_word:\n",
    "            document += word\n",
    "    return document"
   ]
  },
  {
   "cell_type": "code",
   "execution_count": 192,
   "metadata": {},
   "outputs": [
    {
     "name": "stdout",
     "output_type": "stream",
     "text": [
      "CPU times: user 396 ms, sys: 12 ms, total: 408 ms\n",
      "Wall time: 967 ms\n"
     ]
    }
   ],
   "source": [
    "%%time\n",
    "### Form a dictionary of shingles\n",
    "\n",
    "cwd = os.getcwd()\n",
    "doc_id = {}\n",
    "shingles = {}\n",
    "shingles_hash = {}\n",
    "empty_shingle_presence = np.zeros(100)\n",
    "k = 8\n",
    "for i,file in enumerate(glob.glob(cwd + \"/corpus-final09/*/*.txt\")):\n",
    "    document = preprocess((open(file, 'rb').read()).decode('utf-8','ignore'))\n",
    "    doc_id[i] = file\n",
    "    for index in range(len(document) - k + 1):\n",
    "        shingle = document[index: index + k]\n",
    "        if shingle not in shingles.keys():\n",
    "            shingles[shingle] = copy.deepcopy(empty_shingle_presence)\n",
    "        shingles[shingle][i] = 1\n",
    "        shingles_hash[shingle] = int((hashlib.md5(shingle.encode())).hexdigest(), 16)"
   ]
  },
  {
   "cell_type": "code",
   "execution_count": 263,
   "metadata": {},
   "outputs": [
    {
     "data": {
      "text/plain": [
       "37142"
      ]
     },
     "execution_count": 263,
     "metadata": {},
     "output_type": "execute_result"
    }
   ],
   "source": [
    "len(shingles.keys())"
   ]
  },
  {
   "cell_type": "code",
   "execution_count": 8,
   "metadata": {},
   "outputs": [],
   "source": [
    "def find_perm(payload, xor):\n",
    "    num1 = int((hashlib.md5(payload)).hexdigest(), 16)\n",
    "    return num1 ^ xor"
   ]
  },
  {
   "cell_type": "code",
   "execution_count": 276,
   "metadata": {
    "scrolled": true
   },
   "outputs": [
    {
     "name": "stdout",
     "output_type": "stream",
     "text": [
      "CPU times: user 5min 50s, sys: 71.4 ms, total: 5min 50s\n",
      "Wall time: 5min 50s\n"
     ]
    }
   ],
   "source": [
    "%%time\n",
    "\n",
    "### Find 100 permutations of the shingle\n",
    "### Perform minhashing\n",
    "\n",
    "hash_functions = 240\n",
    "document_count = 100\n",
    "signature_matrix = np.ones((hash_functions, document_count)) * np.inf\n",
    "\n",
    "np.random.seed(101)\n",
    "perm = np.arange(len(shingles.keys()))\n",
    "for i in range(hash_functions):\n",
    "    np.random.shuffle(perm)\n",
    "    print(i, end = \"\\r\")\n",
    "    for j,key in enumerate(shingles.keys()):\n",
    "        for k in range(document_count):\n",
    "            if shingles[key][k] == 1 and signature_matrix[i][k] > perm[j]:\n",
    "                signature_matrix[i][k] = perm[j]\n",
    "    "
   ]
  },
  {
   "cell_type": "code",
   "execution_count": 196,
   "metadata": {},
   "outputs": [
    {
     "name": "stdout",
     "output_type": "stream",
     "text": [
      "CPU times: user 6min 53s, sys: 1.59 s, total: 6min 55s\n",
      "Wall time: 6min 54s\n"
     ]
    }
   ],
   "source": [
    "# %%time\n",
    "\n",
    "# hash_functions = 240\n",
    "# document_count = 100\n",
    "# signature_matrix_new = np.ones((hash_functions, document_count)) * np.inf\n",
    "\n",
    "# np.random.seed(101)\n",
    "# for i in range(hash_functions):\n",
    "#     print(i, end = \"\\r\")\n",
    "#     xor = int(np.random.rand() * pow(10,9))\n",
    "#     for shingle in shingles.keys():\n",
    "#         perm = shingles_hash[shingle] ^ xor\n",
    "#         for j in range(document_count):\n",
    "#             if shingles[shingle][j] == 1 and signature_matrix_new[i][j] > perm:\n",
    "#                 signature_matrix_new[i][j] = perm"
   ]
  },
  {
   "cell_type": "code",
   "execution_count": 277,
   "metadata": {},
   "outputs": [
    {
     "data": {
      "text/plain": [
       "(240, 100)"
      ]
     },
     "execution_count": 277,
     "metadata": {},
     "output_type": "execute_result"
    }
   ],
   "source": [
    "signature_matrix.shape"
   ]
  },
  {
   "cell_type": "code",
   "execution_count": 264,
   "metadata": {},
   "outputs": [],
   "source": [
    "#signature_matrix.tofile(\"SignatureMatrixWith240Shingles=37142k=8\")\n"
   ]
  },
  {
   "cell_type": "code",
   "execution_count": null,
   "metadata": {},
   "outputs": [],
   "source": [
    "# sm = np.fromfile(\"SignatureMatrixWith240Shingles=37142k=8\")\n",
    "# sm.reshape(240,100)"
   ]
  },
  {
   "cell_type": "code",
   "execution_count": 235,
   "metadata": {},
   "outputs": [],
   "source": [
    "def split_signature_matrix(signature_matrix, buckets, rows):\n",
    "    divided_signature_matrix = []\n",
    "    for i in range(0,signature_matrix.shape[0],rows):\n",
    "        row = []\n",
    "        for j in range(signature_matrix.shape[1]):\n",
    "            element = signature_matrix[i:i+rows, j]\n",
    "            row.append(element)\n",
    "        divided_signature_matrix.append(np.asarray(row))\n",
    "    return np.asarray(divided_signature_matrix)"
   ]
  },
  {
   "cell_type": "code",
   "execution_count": 236,
   "metadata": {},
   "outputs": [],
   "source": [
    "def find_jaccard_similarity(set1, set2):\n",
    "    intersection = 0\n",
    "    for i in range(len(set1)):\n",
    "        if set1[i] == set2[i]:\n",
    "            intersection += 1\n",
    "    return intersection/len(set1)"
   ]
  },
  {
   "cell_type": "code",
   "execution_count": 237,
   "metadata": {},
   "outputs": [],
   "source": [
    "def find_euclidean_distance(set1, set2):\n",
    "    dist = 0\n",
    "    for i in range(set1):\n",
    "        dist += (set1[i] - set2[i])**2\n",
    "    return np.sqrt(dist)"
   ]
  },
  {
   "cell_type": "code",
   "execution_count": 265,
   "metadata": {},
   "outputs": [],
   "source": [
    "###Generate random vectors for cosine similarity of given array size\n",
    "\n",
    "def form_random_vectors(size):\n",
    "    x = []\n",
    "    for j in [1,-1]:\n",
    "        for i in itertools.repeat(j,size):\n",
    "            x.append(i)\n",
    "    vectors_set = set({})\n",
    "    for i in itertools.permutations(x, size):\n",
    "        vectors_set.add(i)\n",
    "    random_vectors = []\n",
    "    for v in vectors_set:\n",
    "        vect = []\n",
    "        for i in v:\n",
    "            vect.append(i)\n",
    "        random_vectors.append(vect)\n",
    "    return np.asarray(random_vectors)"
   ]
  },
  {
   "cell_type": "code",
   "execution_count": 321,
   "metadata": {},
   "outputs": [],
   "source": [
    "def cosine_distance(set1, set2, random_vectors):\n",
    "#     similarity = 0\n",
    "#     for vect in random_vectors:\n",
    "#         dot1 = (np.dot(set1, vect) > 0)\n",
    "#         dot2 = (np.dot(set2, vect) > 0)\n",
    "#         if dot1 == dot2:\n",
    "#             similarity += 1\n",
    "    len1 = 0\n",
    "    len2 = 0\n",
    "    for i in range(len(set1)):\n",
    "        len1 += set1[i]**2\n",
    "        len2 += set2[i]**2\n",
    "    len_prod = (len1 * len2)**0.5\n",
    "    return np.arccos((np.dot(set1, set2)) / len_prod) * 180/np.pi\n",
    "#     return similarity/len(random_vectors)"
   ]
  },
  {
   "cell_type": "code",
   "execution_count": 320,
   "metadata": {},
   "outputs": [
    {
     "data": {
      "text/plain": [
       "2844.0"
      ]
     },
     "execution_count": 320,
     "metadata": {},
     "output_type": "execute_result"
    }
   ],
   "source": [
    "np.dot(signature_matrix_split[0,1], signature_matrix_split[0,2])"
   ]
  },
  {
   "cell_type": "code",
   "execution_count": 322,
   "metadata": {},
   "outputs": [
    {
     "name": "stdout",
     "output_type": "stream",
     "text": [
      "rows = 4\n",
      "CPU times: user 10.6 s, sys: 847 ms, total: 11.5 s\n",
      "Wall time: 9.95 s\n"
     ]
    }
   ],
   "source": [
    "%%time\n",
    "\n",
    "### Find Similarity \n",
    "### Define number of buckets and rows\n",
    "\n",
    "buckets = 60\n",
    "rows = 4\n",
    "print(\"rows = \"  + str(rows))\n",
    "jaccard_similarity_matrix = np.zeros((document_count, document_count))\n",
    "signature_matrix_split = split_signature_matrix(signature_matrix, buckets, rows)\n",
    "\n",
    "### Jaccard Similarity\n",
    "for i in range(document_count):\n",
    "    print(i, end = \"\\r\")\n",
    "    for j in range(document_count):\n",
    "        for k in range(buckets):\n",
    "            similar = find_jaccard_similarity(signature_matrix_split[k,i], signature_matrix_split[k,j])\n",
    "            jaccard_similarity_matrix[i][j] = max(jaccard_similarity_matrix[i][j], similar)\n",
    "            jaccard_similarity_matrix[j][i] = jaccard_similarity_matrix[i][j]\n",
    "\n",
    "### Cosine distance\n",
    "random_vectors = form_random_vectors(rows)\n",
    "cosine_similarity_matrix = np.ones((document_count, document_count)) * np.inf\n",
    "for i in range(document_count):\n",
    "    print(i, end = \"\\r\")\n",
    "    for j in range(document_count):\n",
    "        for k in range(buckets):\n",
    "            distance = cosine_distance(signature_matrix_split[k,i], signature_matrix_split[k,j], random_vectors)\n",
    "            cosine_similarity_matrix[i][j] = min(cosine_similarity_matrix[i][j], distance)\n",
    "            cosine_similarity_matrix[j][i] = cosine_similarity_matrix[i][j]\n"
   ]
  },
  {
   "cell_type": "code",
   "execution_count": 311,
   "metadata": {},
   "outputs": [],
   "source": [
    "setup_df = pd.read_excel(\"corpus-final09(copy).xls\")\n",
    "doc_plagiarism_type = {}\n",
    "for i,file in enumerate(setup_df[\"File\"]):\n",
    "    doc_plagiarism_type[file] = setup_df.iloc[i,4]"
   ]
  },
  {
   "cell_type": "code",
   "execution_count": 312,
   "metadata": {},
   "outputs": [],
   "source": [
    "original_doc_id = []\n",
    "for doc in doc_id.keys():\n",
    "    if doc_id[doc][-14: -10] == \"orig\":\n",
    "        original_doc_id.append(doc)"
   ]
  },
  {
   "cell_type": "code",
   "execution_count": 313,
   "metadata": {},
   "outputs": [],
   "source": [
    "tp = \"True_Positives\"\n",
    "fp = \"False_Positives\"\n",
    "tn = \"True_Negative\"\n",
    "fn = \"False_Negative\""
   ]
  },
  {
   "cell_type": "code",
   "execution_count": 314,
   "metadata": {},
   "outputs": [],
   "source": [
    "cut = \"cut\"\n",
    "heavy = \"heavy\"\n",
    "light = \"light\"\n",
    "non = \"non\""
   ]
  },
  {
   "cell_type": "code",
   "execution_count": 317,
   "metadata": {},
   "outputs": [
    {
     "data": {
      "text/plain": [
       "array([[inf, inf, inf, ..., inf, inf, inf],\n",
       "       [inf, inf, inf, ..., inf, inf, inf],\n",
       "       [inf, inf, inf, ..., inf, inf, inf],\n",
       "       ...,\n",
       "       [inf, inf, inf, ..., inf, inf, inf],\n",
       "       [inf, inf, inf, ..., inf, inf, inf],\n",
       "       [inf, inf, inf, ..., inf, inf, inf]])"
      ]
     },
     "execution_count": 317,
     "metadata": {},
     "output_type": "execute_result"
    }
   ],
   "source": [
    "cosine_similarity_matrix"
   ]
  },
  {
   "cell_type": "code",
   "execution_count": 289,
   "metadata": {},
   "outputs": [],
   "source": [
    "###Jacard Similarity\n",
    "similar_documents = {}\n",
    "results = {}\n",
    "performance = {}\n",
    "results[tp] = results[fp] = results[fn] = results[tn] = results[cut] = results[heavy] = results[light] = results[non] = 0\n",
    "threshold = 0.8\n",
    "\n",
    "for k in original_doc_id:    \n",
    "    similar_documents[ doc_id[k][-5] ] = []\n",
    "    performance[ doc_id[k][-5] ] = copy.deepcopy(results) \n",
    "    \n",
    "    for i in range(len( jaccard_similarity_matrix[k] )):\n",
    "        if jaccard_similarity_matrix[k][i] >= threshold and k != i:\n",
    "            similar_documents[ doc_id[k][-5] ].append(i)\n",
    "            if doc_id[i][-5] == doc_id[k][-5]:\n",
    "                performance[doc_id[k][-5]][tp] += 1\n",
    "                performance[doc_id[k][-5]][doc_plagiarism_type[doc_id[i][-14:]]] += 1\n",
    "            else:\n",
    "                performace[doc_id[k][-5]][fp] += 1\n",
    "    performance[doc_id[k][-5]][tn] = 19 - performance[doc_id[k][-5]][tp]\n",
    "    performance[doc_id[k][-5]][fn] = 80 - performance[doc_id[k][-5]][fp]"
   ]
  },
  {
   "cell_type": "code",
   "execution_count": 338,
   "metadata": {},
   "outputs": [
    {
     "ename": "KeyError",
     "evalue": "'c'",
     "output_type": "error",
     "traceback": [
      "\u001b[0;31m---------------------------------------------------------------------------\u001b[0m",
      "\u001b[0;31mKeyError\u001b[0m                                  Traceback (most recent call last)",
      "\u001b[0;32m<ipython-input-338-553887da9f45>\u001b[0m in \u001b[0;36m<module>\u001b[0;34m\u001b[0m\n\u001b[1;32m     12\u001b[0m     \u001b[0;32mfor\u001b[0m \u001b[0mi\u001b[0m \u001b[0;32min\u001b[0m \u001b[0mrange\u001b[0m\u001b[0;34m(\u001b[0m\u001b[0mlen\u001b[0m\u001b[0;34m(\u001b[0m \u001b[0mjaccard_similarity_matrix\u001b[0m\u001b[0;34m[\u001b[0m\u001b[0mk\u001b[0m\u001b[0;34m]\u001b[0m \u001b[0;34m)\u001b[0m\u001b[0;34m)\u001b[0m\u001b[0;34m:\u001b[0m\u001b[0;34m\u001b[0m\u001b[0;34m\u001b[0m\u001b[0m\n\u001b[1;32m     13\u001b[0m         \u001b[0;32mif\u001b[0m \u001b[0mcosine_similarity_matrix\u001b[0m\u001b[0;34m[\u001b[0m\u001b[0mk\u001b[0m\u001b[0;34m]\u001b[0m\u001b[0;34m[\u001b[0m\u001b[0mi\u001b[0m\u001b[0;34m]\u001b[0m \u001b[0;34m<=\u001b[0m \u001b[0mthreshold\u001b[0m \u001b[0;32mand\u001b[0m \u001b[0mk\u001b[0m \u001b[0;34m!=\u001b[0m \u001b[0mi\u001b[0m\u001b[0;34m:\u001b[0m\u001b[0;34m\u001b[0m\u001b[0;34m\u001b[0m\u001b[0m\n\u001b[0;32m---> 14\u001b[0;31m             \u001b[0msimilar_documents\u001b[0m\u001b[0;34m[\u001b[0m \u001b[0mdoc_id\u001b[0m\u001b[0;34m[\u001b[0m\u001b[0mk\u001b[0m\u001b[0;34m]\u001b[0m\u001b[0;34m[\u001b[0m\u001b[0;34m-\u001b[0m\u001b[0;36m5\u001b[0m\u001b[0;34m]\u001b[0m \u001b[0;34m]\u001b[0m\u001b[0;34m.\u001b[0m\u001b[0mappend\u001b[0m\u001b[0;34m(\u001b[0m\u001b[0mi\u001b[0m\u001b[0;34m)\u001b[0m\u001b[0;34m\u001b[0m\u001b[0;34m\u001b[0m\u001b[0m\n\u001b[0m\u001b[1;32m     15\u001b[0m             \u001b[0;32mif\u001b[0m \u001b[0mdoc_id\u001b[0m\u001b[0;34m[\u001b[0m\u001b[0mi\u001b[0m\u001b[0;34m]\u001b[0m\u001b[0;34m[\u001b[0m\u001b[0;34m-\u001b[0m\u001b[0;36m5\u001b[0m\u001b[0;34m]\u001b[0m \u001b[0;34m==\u001b[0m \u001b[0mdoc_id\u001b[0m\u001b[0;34m[\u001b[0m\u001b[0mk\u001b[0m\u001b[0;34m]\u001b[0m\u001b[0;34m[\u001b[0m\u001b[0;34m-\u001b[0m\u001b[0;36m5\u001b[0m\u001b[0;34m]\u001b[0m\u001b[0;34m:\u001b[0m\u001b[0;34m\u001b[0m\u001b[0;34m\u001b[0m\u001b[0m\n\u001b[1;32m     16\u001b[0m                 \u001b[0mperformance\u001b[0m\u001b[0;34m[\u001b[0m\u001b[0mdoc_id\u001b[0m\u001b[0;34m[\u001b[0m\u001b[0mk\u001b[0m\u001b[0;34m]\u001b[0m\u001b[0;34m[\u001b[0m\u001b[0;34m-\u001b[0m\u001b[0;36m5\u001b[0m\u001b[0;34m]\u001b[0m\u001b[0;34m]\u001b[0m\u001b[0;34m[\u001b[0m\u001b[0mtp\u001b[0m\u001b[0;34m]\u001b[0m \u001b[0;34m+=\u001b[0m \u001b[0;36m1\u001b[0m\u001b[0;34m\u001b[0m\u001b[0;34m\u001b[0m\u001b[0m\n",
      "\u001b[0;31mKeyError\u001b[0m: 'c'"
     ]
    }
   ],
   "source": [
    "###Cosine distance\n",
    "similar_documents = {}\n",
    "results = {}\n",
    "performance = {}\n",
    "results[tp] = results[fp] = results[fn] = results[tn] = results[cut] = results[heavy] = results[light] = results[non] = 0\n",
    "threshold = 4\n",
    "\n",
    "for k in original_doc_id:    \n",
    "    similar_documents[ doc_id[k][-5] ] = []\n",
    "    performance[ doc_id[k][-5] ] = copy.deepcopy(results) \n",
    "    \n",
    "    for i in range(len( jaccard_similarity_matrix[k] )):\n",
    "        if cosine_similarity_matrix[k][i] <= threshold and k != i:\n",
    "            similar_documents[ doc_id[k][-5] ].append(i)\n",
    "            if doc_id[i][-5] == doc_id[k][-5]:\n",
    "                performance[doc_id[k][-5]][tp] += 1\n",
    "                performance[doc_id[k][-5]][doc_plagiarism_type[doc_id[i][-14:]]] += 1\n",
    "            else:\n",
    "                performace[doc_id[k][-5]][fp] += 1\n",
    "    performance[doc_id[k][-5]][tn] = 19 - performance[doc_id[k][-5]][tp]\n",
    "    performance[doc_id[k][-5]][fn] = 80 - performance[doc_id[k][-5]][fp]\n",
    "\n",
    "for doc in similar_documents.keys():\n",
    "    doc"
   ]
  },
  {
   "cell_type": "code",
   "execution_count": 336,
   "metadata": {},
   "outputs": [
    {
     "data": {
      "text/plain": [
       "{'c': [3, 17, 26, 39, 40, 41, 48, 50, 67, 71, 93, 94, 96],\n",
       " 'd': [0, 15, 19, 30, 34, 37, 42, 51, 53, 65, 79, 86, 87],\n",
       " 'a': [0, 18, 25, 30, 37, 41, 44, 46, 49, 54, 57, 59, 62, 72, 73, 85, 89, 98],\n",
       " 'b': [5, 20, 22, 46, 49, 56, 57, 66, 80, 91, 94],\n",
       " 'e': [8, 11, 21, 24, 35, 36, 59, 72, 85, 86]}"
      ]
     },
     "execution_count": 336,
     "metadata": {},
     "output_type": "execute_result"
    }
   ],
   "source": [
    "similar_documents"
   ]
  },
  {
   "cell_type": "code",
   "execution_count": 333,
   "metadata": {},
   "outputs": [],
   "source": [
    "df = pd.DataFrame(performance).T"
   ]
  },
  {
   "cell_type": "code",
   "execution_count": 334,
   "metadata": {},
   "outputs": [
    {
     "data": {
      "text/html": [
       "<div>\n",
       "<style scoped>\n",
       "    .dataframe tbody tr th:only-of-type {\n",
       "        vertical-align: middle;\n",
       "    }\n",
       "\n",
       "    .dataframe tbody tr th {\n",
       "        vertical-align: top;\n",
       "    }\n",
       "\n",
       "    .dataframe thead th {\n",
       "        text-align: right;\n",
       "    }\n",
       "</style>\n",
       "<table border=\"1\" class=\"dataframe\">\n",
       "  <thead>\n",
       "    <tr style=\"text-align: right;\">\n",
       "      <th></th>\n",
       "      <th>True_Positives</th>\n",
       "      <th>False_Positives</th>\n",
       "      <th>False_Negative</th>\n",
       "      <th>True_Negative</th>\n",
       "      <th>cut</th>\n",
       "      <th>heavy</th>\n",
       "      <th>light</th>\n",
       "      <th>non</th>\n",
       "    </tr>\n",
       "  </thead>\n",
       "  <tbody>\n",
       "    <tr>\n",
       "      <td>c</td>\n",
       "      <td>10</td>\n",
       "      <td>0</td>\n",
       "      <td>80</td>\n",
       "      <td>9</td>\n",
       "      <td>2</td>\n",
       "      <td>4</td>\n",
       "      <td>3</td>\n",
       "      <td>1</td>\n",
       "    </tr>\n",
       "    <tr>\n",
       "      <td>d</td>\n",
       "      <td>8</td>\n",
       "      <td>0</td>\n",
       "      <td>80</td>\n",
       "      <td>11</td>\n",
       "      <td>3</td>\n",
       "      <td>2</td>\n",
       "      <td>3</td>\n",
       "      <td>0</td>\n",
       "    </tr>\n",
       "    <tr>\n",
       "      <td>a</td>\n",
       "      <td>9</td>\n",
       "      <td>0</td>\n",
       "      <td>80</td>\n",
       "      <td>10</td>\n",
       "      <td>4</td>\n",
       "      <td>1</td>\n",
       "      <td>3</td>\n",
       "      <td>1</td>\n",
       "    </tr>\n",
       "    <tr>\n",
       "      <td>b</td>\n",
       "      <td>5</td>\n",
       "      <td>0</td>\n",
       "      <td>80</td>\n",
       "      <td>14</td>\n",
       "      <td>2</td>\n",
       "      <td>1</td>\n",
       "      <td>1</td>\n",
       "      <td>1</td>\n",
       "    </tr>\n",
       "    <tr>\n",
       "      <td>e</td>\n",
       "      <td>7</td>\n",
       "      <td>0</td>\n",
       "      <td>80</td>\n",
       "      <td>12</td>\n",
       "      <td>5</td>\n",
       "      <td>0</td>\n",
       "      <td>2</td>\n",
       "      <td>0</td>\n",
       "    </tr>\n",
       "  </tbody>\n",
       "</table>\n",
       "</div>"
      ],
      "text/plain": [
       "   True_Positives  False_Positives  False_Negative  True_Negative  cut  heavy  \\\n",
       "c              10                0              80              9    2      4   \n",
       "d               8                0              80             11    3      2   \n",
       "a               9                0              80             10    4      1   \n",
       "b               5                0              80             14    2      1   \n",
       "e               7                0              80             12    5      0   \n",
       "\n",
       "   light  non  \n",
       "c      3    1  \n",
       "d      3    0  \n",
       "a      3    1  \n",
       "b      1    1  \n",
       "e      2    0  "
      ]
     },
     "execution_count": 334,
     "metadata": {},
     "output_type": "execute_result"
    }
   ],
   "source": [
    "df"
   ]
  },
  {
   "cell_type": "code",
   "execution_count": 335,
   "metadata": {},
   "outputs": [
    {
     "data": {
      "text/plain": [
       "array([ 5.78007077,  0.        ,  7.78357544,  0.        , 12.26619318,\n",
       "        7.99076388,  8.31051739,  8.41310731, 10.85570433,  8.6715246 ,\n",
       "       10.87615345,  5.94337554,  7.07357814, 16.9327643 , 15.1517795 ,\n",
       "       14.66839722,  6.80740357,  3.74891757, 11.47131916, 12.76057536,\n",
       "        4.75088613,  6.38789568, 12.34309758, 12.21754672,  7.94373057,\n",
       "        7.95287434,  0.        , 10.45496015,  8.3701498 , 10.52064742,\n",
       "        8.59259576,  4.32849338, 14.29548991, 10.01701805,  5.61697779,\n",
       "        8.87840951,  5.48672841,  6.2131979 ,  9.40065357,  0.        ,\n",
       "        2.04571724,  2.06343262,  8.80961937,  8.20377549,  5.01759599,\n",
       "        8.93810672,  8.21537835, 10.15806766,  2.15972049, 18.57356754,\n",
       "        0.        ,  8.27738742,  9.78819496,  5.87098135,  4.60229155,\n",
       "       17.4733508 , 20.102668  , 16.21157461, 17.95436661, 11.7516797 ,\n",
       "        5.5733518 ,  5.26411227, 12.37382953,  9.09571682, 16.11383669,\n",
       "        5.56250116,  4.55622734,  0.95122228,  4.75531729,  5.06290762,\n",
       "        4.97477598,  0.        ,  5.93791388, 10.74534562,  4.36770101,\n",
       "       18.2412018 ,  8.23465766,  8.27517311,  8.68386774,  8.64410438,\n",
       "       10.1116931 ,  8.67187672,  7.09082459,  8.94707695,  8.16227717,\n",
       "       11.32775472,  4.13608861,  9.71505812, 16.66871276,  7.32155357,\n",
       "       12.23631381,  7.11652989, 18.80727159,  2.42100874,  3.53293353,\n",
       "       11.72391232,  3.35399889, 14.76785009,  6.67364386,  4.55094701])"
      ]
     },
     "execution_count": 335,
     "metadata": {},
     "output_type": "execute_result"
    }
   ],
   "source": [
    "cosine_similarity_matrix[1]"
   ]
  },
  {
   "cell_type": "code",
   "execution_count": 339,
   "metadata": {},
   "outputs": [
    {
     "data": {
      "text/plain": [
       "array([ 0.        ,  5.78007077,  5.415753  ,  7.42715756,  7.78260694,\n",
       "       13.85413917,  5.59749778,  8.64181959,  8.36384193,  0.34110989,\n",
       "        6.4334432 , 11.27109575, 15.71278966,  3.35081684, 12.77361282,\n",
       "        5.04185638, 10.31195471, 12.01447978,  1.81610069,  5.67688143,\n",
       "        7.58472376,  5.92197518,  8.48697859,  9.16004406,  4.52445888,\n",
       "        5.5234168 ,  5.78007077,  6.44423782,  8.59155084, 11.86125246,\n",
       "        8.4984848 , 10.92695742,  3.53075199,  8.07522298,  5.85151703,\n",
       "        4.52445888, 10.81078666,  9.0014286 ,  8.78297965, 11.20909221,\n",
       "        5.04252914, 11.2036198 ,  0.34110989,  4.24451325, 15.10432312,\n",
       "        6.43362216,  8.15324621,  3.88957873, 12.0657095 ,  3.6912321 ,\n",
       "       10.65808807, 10.18483404, 14.37911851,  0.34110989, 15.64470234,\n",
       "       12.41460979,  3.6912321 ,  3.6912321 ,  7.94835071,  7.08110639,\n",
       "        3.52025245,  8.08874503, 16.51446835,  6.46703149,  2.9892823 ,\n",
       "       11.79603519,  4.7291318 , 10.13315843,  1.60547345, 14.1706722 ,\n",
       "       10.96857477, 10.82106504, 10.47957519,  8.06241459,  3.53379944,\n",
       "        4.85968172, 11.59138564,  8.47899601, 12.11638524,  1.04499811,\n",
       "       11.48132224, 10.92164875,  7.35747855,  4.19907026, 10.56376851,\n",
       "        3.90709147, 11.66592986,  3.98324671, 11.58594249, 18.42871164,\n",
       "        6.49224966,  2.83530682, 13.67597715, 12.61462911,  8.31287558,\n",
       "        8.31186108, 10.08239589, 11.61430297,  3.2414138 , 12.78823847])"
      ]
     },
     "execution_count": 339,
     "metadata": {},
     "output_type": "execute_result"
    }
   ],
   "source": []
  },
  {
   "cell_type": "code",
   "execution_count": null,
   "metadata": {},
   "outputs": [],
   "source": []
  },
  {
   "cell_type": "code",
   "execution_count": null,
   "metadata": {},
   "outputs": [],
   "source": []
  }
 ],
 "metadata": {
  "kernelspec": {
   "display_name": "Python 3",
   "language": "python",
   "name": "python3"
  },
  "language_info": {
   "codemirror_mode": {
    "name": "ipython",
    "version": 3
   },
   "file_extension": ".py",
   "mimetype": "text/x-python",
   "name": "python",
   "nbconvert_exporter": "python",
   "pygments_lexer": "ipython3",
   "version": "3.6.9"
  }
 },
 "nbformat": 4,
 "nbformat_minor": 2
}
